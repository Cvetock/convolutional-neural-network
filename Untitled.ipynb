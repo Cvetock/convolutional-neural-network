{
 "cells": [
  {
   "cell_type": "code",
   "execution_count": null,
   "id": "13d96933-cfdd-4226-a30b-030fe70680da",
   "metadata": {},
   "outputs": [],
   "source": []
  }
 ],
 "metadata": {
  "kernelspec": {
   "display_name": "",
   "name": ""
  },
  "language_info": {
   "name": ""
  }
 },
 "nbformat": 4,
 "nbformat_minor": 5
}
